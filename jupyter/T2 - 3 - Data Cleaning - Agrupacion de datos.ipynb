{
 "cells": [
  {
   "cell_type": "markdown",
   "metadata": {},
   "source": [
    "# Agregacion de datos por categoria"
   ]
  },
  {
   "cell_type": "code",
   "execution_count": 1,
   "metadata": {},
   "outputs": [],
   "source": [
    "import pandas as pd\n",
    "import numpy as np\n",
    "import matplotlib.pyplot as plt \n"
   ]
  },
  {
   "cell_type": "code",
   "execution_count": null,
   "metadata": {},
   "outputs": [],
   "source": [
    "gender = [\"Male\", \"Female\"]\n",
    "income = [\"Poor\", \"Middle class\", \"Rich\"]"
   ]
  },
  {
   "cell_type": "code",
   "execution_count": 5,
   "metadata": {},
   "outputs": [],
   "source": [
    "n = 500\n",
    "gender_data = [np.random.choice(gender) for i in range (0,n)]\n",
    "income_data = [np.random.choice(income) for i in range (0,n)]\n"
   ]
  },
  {
   "cell_type": "code",
   "execution_count": 6,
   "metadata": {},
   "outputs": [
    {
     "data": {
      "text/plain": [
       "['Male',\n",
       " 'Male',\n",
       " 'Male',\n",
       " 'Female',\n",
       " 'Female',\n",
       " 'Female',\n",
       " 'Female',\n",
       " 'Male',\n",
       " 'Female',\n",
       " 'Female']"
      ]
     },
     "execution_count": 6,
     "metadata": {},
     "output_type": "execute_result"
    }
   ],
   "source": [
    "gender_data[:10]"
   ]
  },
  {
   "cell_type": "code",
   "execution_count": 9,
   "metadata": {},
   "outputs": [],
   "source": [
    "# Z -> N(0,1)\n",
    "# N(m,s) -> m + s * Z \n",
    "height = 160 + 30 * np.random.randn(n)\n",
    "weight = 65 + 25  * np.random.randn(n)\n",
    "age = 30 + 12 * np.random.randn(n)\n",
    "income = 18000 + 3500 * np.random.randn(n)"
   ]
  },
  {
   "cell_type": "code",
   "execution_count": 11,
   "metadata": {},
   "outputs": [],
   "source": [
    "data = pd.DataFrame(\n",
    "    {\n",
    "        \"Gender\": gender_data,\n",
    "        \"Economic status\": income_data,\n",
    "        \"Height\": height,\n",
    "        \"Weight\": weight,\n",
    "        \"Age\": age,\n",
    "        \"Income\": income\n",
    "    }\n",
    ")"
   ]
  },
  {
   "cell_type": "code",
   "execution_count": 13,
   "metadata": {},
   "outputs": [
    {
     "data": {
      "text/html": [
       "<div>\n",
       "<style scoped>\n",
       "    .dataframe tbody tr th:only-of-type {\n",
       "        vertical-align: middle;\n",
       "    }\n",
       "\n",
       "    .dataframe tbody tr th {\n",
       "        vertical-align: top;\n",
       "    }\n",
       "\n",
       "    .dataframe thead th {\n",
       "        text-align: right;\n",
       "    }\n",
       "</style>\n",
       "<table border=\"1\" class=\"dataframe\">\n",
       "  <thead>\n",
       "    <tr style=\"text-align: right;\">\n",
       "      <th></th>\n",
       "      <th>Gender</th>\n",
       "      <th>Economic status</th>\n",
       "      <th>Height</th>\n",
       "      <th>Weight</th>\n",
       "      <th>Age</th>\n",
       "      <th>Income</th>\n",
       "    </tr>\n",
       "  </thead>\n",
       "  <tbody>\n",
       "    <tr>\n",
       "      <th>0</th>\n",
       "      <td>Male</td>\n",
       "      <td>Poor</td>\n",
       "      <td>174.438254</td>\n",
       "      <td>46.157300</td>\n",
       "      <td>21.942468</td>\n",
       "      <td>15261.114610</td>\n",
       "    </tr>\n",
       "    <tr>\n",
       "      <th>1</th>\n",
       "      <td>Male</td>\n",
       "      <td>Rich</td>\n",
       "      <td>206.373174</td>\n",
       "      <td>57.767355</td>\n",
       "      <td>6.486679</td>\n",
       "      <td>17056.712279</td>\n",
       "    </tr>\n",
       "    <tr>\n",
       "      <th>2</th>\n",
       "      <td>Male</td>\n",
       "      <td>Rich</td>\n",
       "      <td>130.236789</td>\n",
       "      <td>24.461983</td>\n",
       "      <td>29.667932</td>\n",
       "      <td>17992.181796</td>\n",
       "    </tr>\n",
       "    <tr>\n",
       "      <th>3</th>\n",
       "      <td>Female</td>\n",
       "      <td>Middle class</td>\n",
       "      <td>121.755305</td>\n",
       "      <td>62.195253</td>\n",
       "      <td>50.232335</td>\n",
       "      <td>19795.405271</td>\n",
       "    </tr>\n",
       "    <tr>\n",
       "      <th>4</th>\n",
       "      <td>Female</td>\n",
       "      <td>Rich</td>\n",
       "      <td>208.297957</td>\n",
       "      <td>71.034980</td>\n",
       "      <td>27.733907</td>\n",
       "      <td>12445.827529</td>\n",
       "    </tr>\n",
       "  </tbody>\n",
       "</table>\n",
       "</div>"
      ],
      "text/plain": [
       "   Gender Economic status      Height     Weight        Age        Income\n",
       "0    Male            Poor  174.438254  46.157300  21.942468  15261.114610\n",
       "1    Male            Rich  206.373174  57.767355   6.486679  17056.712279\n",
       "2    Male            Rich  130.236789  24.461983  29.667932  17992.181796\n",
       "3  Female    Middle class  121.755305  62.195253  50.232335  19795.405271\n",
       "4  Female            Rich  208.297957  71.034980  27.733907  12445.827529"
      ]
     },
     "execution_count": 13,
     "metadata": {},
     "output_type": "execute_result"
    }
   ],
   "source": [
    "data.head()"
   ]
  },
  {
   "cell_type": "code",
   "execution_count": 16,
   "metadata": {},
   "outputs": [
    {
     "data": {
      "text/plain": [
       "0    21\n",
       "1     6\n",
       "2    29\n",
       "3    50\n",
       "Name: Age, dtype: int64"
      ]
     },
     "execution_count": 16,
     "metadata": {},
     "output_type": "execute_result"
    }
   ],
   "source": [
    "data[\"Age\"].astype(int)[:4]"
   ]
  },
  {
   "cell_type": "code",
   "execution_count": 17,
   "metadata": {},
   "outputs": [],
   "source": [
    "dummy_age = data[\"Age\"].astype(int)"
   ]
  },
  {
   "cell_type": "code",
   "execution_count": 28,
   "metadata": {
    "scrolled": true
   },
   "outputs": [
    {
     "data": {
      "text/html": [
       "<div>\n",
       "<style scoped>\n",
       "    .dataframe tbody tr th:only-of-type {\n",
       "        vertical-align: middle;\n",
       "    }\n",
       "\n",
       "    .dataframe tbody tr th {\n",
       "        vertical-align: top;\n",
       "    }\n",
       "\n",
       "    .dataframe thead th {\n",
       "        text-align: right;\n",
       "    }\n",
       "</style>\n",
       "<table border=\"1\" class=\"dataframe\">\n",
       "  <thead>\n",
       "    <tr style=\"text-align: right;\">\n",
       "      <th></th>\n",
       "      <th>Gender</th>\n",
       "      <th>Economic status</th>\n",
       "      <th>Height</th>\n",
       "      <th>Weight</th>\n",
       "      <th>Income</th>\n",
       "      <th>Age</th>\n",
       "    </tr>\n",
       "  </thead>\n",
       "  <tbody>\n",
       "    <tr>\n",
       "      <th>0</th>\n",
       "      <td>Male</td>\n",
       "      <td>Poor</td>\n",
       "      <td>174.438254</td>\n",
       "      <td>46.157300</td>\n",
       "      <td>15261.114610</td>\n",
       "      <td>21</td>\n",
       "    </tr>\n",
       "    <tr>\n",
       "      <th>1</th>\n",
       "      <td>Male</td>\n",
       "      <td>Rich</td>\n",
       "      <td>206.373174</td>\n",
       "      <td>57.767355</td>\n",
       "      <td>17056.712279</td>\n",
       "      <td>6</td>\n",
       "    </tr>\n",
       "    <tr>\n",
       "      <th>2</th>\n",
       "      <td>Male</td>\n",
       "      <td>Rich</td>\n",
       "      <td>130.236789</td>\n",
       "      <td>24.461983</td>\n",
       "      <td>17992.181796</td>\n",
       "      <td>29</td>\n",
       "    </tr>\n",
       "    <tr>\n",
       "      <th>3</th>\n",
       "      <td>Female</td>\n",
       "      <td>Middle class</td>\n",
       "      <td>121.755305</td>\n",
       "      <td>62.195253</td>\n",
       "      <td>19795.405271</td>\n",
       "      <td>50</td>\n",
       "    </tr>\n",
       "  </tbody>\n",
       "</table>\n",
       "</div>"
      ],
      "text/plain": [
       "   Gender Economic status      Height     Weight        Income  Age\n",
       "0    Male            Poor  174.438254  46.157300  15261.114610   21\n",
       "1    Male            Rich  206.373174  57.767355  17056.712279    6\n",
       "2    Male            Rich  130.236789  24.461983  17992.181796   29\n",
       "3  Female    Middle class  121.755305  62.195253  19795.405271   50"
      ]
     },
     "execution_count": 28,
     "metadata": {},
     "output_type": "execute_result"
    }
   ],
   "source": [
    "data = pd.concat((data, dummy_age),axis=1)\n",
    "data[:4]"
   ]
  },
  {
   "cell_type": "markdown",
   "metadata": {},
   "source": [
    "# Agrupacion"
   ]
  },
  {
   "cell_type": "code",
   "execution_count": 31,
   "metadata": {},
   "outputs": [],
   "source": [
    "group_gender = data.groupby(\"Gender\")"
   ]
  },
  {
   "cell_type": "code",
   "execution_count": 35,
   "metadata": {},
   "outputs": [
    {
     "data": {
      "text/plain": [
       "<bound method IndexOpsMixin.tolist of Int64Index([  3,   4,   5,   6,   8,   9,  11,  13,  14,  15,\n",
       "            ...\n",
       "            467, 476, 477, 478, 480, 482, 492, 495, 497, 498],\n",
       "           dtype='int64', length=253)>"
      ]
     },
     "execution_count": 35,
     "metadata": {},
     "output_type": "execute_result"
    }
   ],
   "source": [
    "group_gender.groups['Female'].tolist"
   ]
  },
  {
   "cell_type": "code",
   "execution_count": 36,
   "metadata": {},
   "outputs": [
    {
     "data": {
      "text/plain": [
       "['T',\n",
       " '__abs__',\n",
       " '__add__',\n",
       " '__and__',\n",
       " '__array__',\n",
       " '__array_priority__',\n",
       " '__array_wrap__',\n",
       " '__bool__',\n",
       " '__bytes__',\n",
       " '__class__',\n",
       " '__contains__',\n",
       " '__copy__',\n",
       " '__deepcopy__',\n",
       " '__delattr__',\n",
       " '__dict__',\n",
       " '__dir__',\n",
       " '__divmod__',\n",
       " '__doc__',\n",
       " '__eq__',\n",
       " '__floordiv__',\n",
       " '__format__',\n",
       " '__ge__',\n",
       " '__getattribute__',\n",
       " '__getitem__',\n",
       " '__gt__',\n",
       " '__hash__',\n",
       " '__iadd__',\n",
       " '__init__',\n",
       " '__init_subclass__',\n",
       " '__inv__',\n",
       " '__iter__',\n",
       " '__le__',\n",
       " '__len__',\n",
       " '__lt__',\n",
       " '__mod__',\n",
       " '__module__',\n",
       " '__mul__',\n",
       " '__ne__',\n",
       " '__neg__',\n",
       " '__new__',\n",
       " '__nonzero__',\n",
       " '__or__',\n",
       " '__pos__',\n",
       " '__pow__',\n",
       " '__radd__',\n",
       " '__reduce__',\n",
       " '__reduce_ex__',\n",
       " '__repr__',\n",
       " '__rfloordiv__',\n",
       " '__rmul__',\n",
       " '__rpow__',\n",
       " '__rsub__',\n",
       " '__rtruediv__',\n",
       " '__setattr__',\n",
       " '__setitem__',\n",
       " '__setstate__',\n",
       " '__sizeof__',\n",
       " '__str__',\n",
       " '__sub__',\n",
       " '__subclasshook__',\n",
       " '__truediv__',\n",
       " '__unicode__',\n",
       " '__weakref__',\n",
       " '__xor__',\n",
       " '_accessors',\n",
       " '_add_comparison_methods',\n",
       " '_add_logical_methods',\n",
       " '_add_logical_methods_disabled',\n",
       " '_add_numeric_methods',\n",
       " '_add_numeric_methods_add_sub_disabled',\n",
       " '_add_numeric_methods_binary',\n",
       " '_add_numeric_methods_disabled',\n",
       " '_add_numeric_methods_unary',\n",
       " '_assert_can_do_op',\n",
       " '_assert_can_do_setop',\n",
       " '_assert_safe_casting',\n",
       " '_assert_take_fillable',\n",
       " '_attributes',\n",
       " '_can_hold_identifiers_and_holds_name',\n",
       " '_can_hold_na',\n",
       " '_can_reindex',\n",
       " '_cleanup',\n",
       " '_coerce_scalar_to_index',\n",
       " '_coerce_to_ndarray',\n",
       " '_comparables',\n",
       " '_concat',\n",
       " '_concat_same_dtype',\n",
       " '_constructor',\n",
       " '_convert_arr_indexer',\n",
       " '_convert_can_do_setop',\n",
       " '_convert_for_op',\n",
       " '_convert_index_indexer',\n",
       " '_convert_list_indexer',\n",
       " '_convert_listlike_indexer',\n",
       " '_convert_scalar_indexer',\n",
       " '_convert_slice_indexer',\n",
       " '_convert_tolerance',\n",
       " '_data',\n",
       " '_deepcopy_if_needed',\n",
       " '_default_dtype',\n",
       " '_defer_to_indexing',\n",
       " '_deprecations',\n",
       " '_dir_additions',\n",
       " '_dir_deletions',\n",
       " '_engine',\n",
       " '_engine_type',\n",
       " '_evaluate_compare',\n",
       " '_evaluate_with_datetime_like',\n",
       " '_evaluate_with_timedelta_like',\n",
       " '_filter_indexer_tolerance',\n",
       " '_format_attrs',\n",
       " '_format_data',\n",
       " '_format_native_types',\n",
       " '_format_space',\n",
       " '_format_with_header',\n",
       " '_formatter_func',\n",
       " '_get_attributes_dict',\n",
       " '_get_consensus_name',\n",
       " '_get_fill_indexer',\n",
       " '_get_fill_indexer_searchsorted',\n",
       " '_get_grouper_for_level',\n",
       " '_get_level_number',\n",
       " '_get_level_values',\n",
       " '_get_loc_only_exact_matches',\n",
       " '_get_names',\n",
       " '_get_nearest_indexer',\n",
       " '_get_string_slice',\n",
       " '_get_unique_index',\n",
       " '_has_complex_internals',\n",
       " '_id',\n",
       " '_infer_as_myclass',\n",
       " '_inner_indexer',\n",
       " '_invalid_indexer',\n",
       " '_is_memory_usage_qualified',\n",
       " '_is_numeric_dtype',\n",
       " '_is_strictly_monotonic_decreasing',\n",
       " '_is_strictly_monotonic_increasing',\n",
       " '_isnan',\n",
       " '_join_level',\n",
       " '_join_monotonic',\n",
       " '_join_multi',\n",
       " '_join_non_unique',\n",
       " '_join_precedence',\n",
       " '_left_indexer',\n",
       " '_left_indexer_unique',\n",
       " '_map_values',\n",
       " '_maybe_cast_indexer',\n",
       " '_maybe_cast_slice_bound',\n",
       " '_maybe_promote',\n",
       " '_maybe_update_attributes',\n",
       " '_mpl_repr',\n",
       " '_na_value',\n",
       " '_nan_idxs',\n",
       " '_ndarray_values',\n",
       " '_outer_indexer',\n",
       " '_reduce',\n",
       " '_reindex_non_unique',\n",
       " '_reset_cache',\n",
       " '_reset_identity',\n",
       " '_scalar_data_error',\n",
       " '_searchsorted_monotonic',\n",
       " '_set_names',\n",
       " '_shallow_copy',\n",
       " '_shallow_copy_with_infer',\n",
       " '_simple_new',\n",
       " '_sort_levels_monotonic',\n",
       " '_string_data_error',\n",
       " '_summary',\n",
       " '_to_embed',\n",
       " '_to_safe_for_reshape',\n",
       " '_try_convert_to_int_index',\n",
       " '_typ',\n",
       " '_unpickle_compat',\n",
       " '_update_inplace',\n",
       " '_validate_for_numeric_binop',\n",
       " '_validate_for_numeric_unaryop',\n",
       " '_validate_index_level',\n",
       " '_validate_indexer',\n",
       " '_validate_names',\n",
       " '_values',\n",
       " '_wrap_joined_index',\n",
       " '_wrap_union_result',\n",
       " 'all',\n",
       " 'any',\n",
       " 'append',\n",
       " 'argmax',\n",
       " 'argmin',\n",
       " 'argsort',\n",
       " 'asi8',\n",
       " 'asof',\n",
       " 'asof_locs',\n",
       " 'astype',\n",
       " 'contains',\n",
       " 'copy',\n",
       " 'delete',\n",
       " 'difference',\n",
       " 'drop',\n",
       " 'drop_duplicates',\n",
       " 'dropna',\n",
       " 'dtype',\n",
       " 'dtype_str',\n",
       " 'duplicated',\n",
       " 'empty',\n",
       " 'equals',\n",
       " 'factorize',\n",
       " 'fillna',\n",
       " 'format',\n",
       " 'get_duplicates',\n",
       " 'get_indexer',\n",
       " 'get_indexer_for',\n",
       " 'get_indexer_non_unique',\n",
       " 'get_level_values',\n",
       " 'get_loc',\n",
       " 'get_slice_bound',\n",
       " 'get_value',\n",
       " 'get_values',\n",
       " 'groupby',\n",
       " 'has_duplicates',\n",
       " 'hasnans',\n",
       " 'holds_integer',\n",
       " 'identical',\n",
       " 'inferred_type',\n",
       " 'insert',\n",
       " 'intersection',\n",
       " 'is_',\n",
       " 'is_all_dates',\n",
       " 'is_boolean',\n",
       " 'is_categorical',\n",
       " 'is_floating',\n",
       " 'is_integer',\n",
       " 'is_interval',\n",
       " 'is_lexsorted_for_tuple',\n",
       " 'is_mixed',\n",
       " 'is_monotonic',\n",
       " 'is_monotonic_decreasing',\n",
       " 'is_monotonic_increasing',\n",
       " 'is_numeric',\n",
       " 'is_object',\n",
       " 'is_type_compatible',\n",
       " 'is_unique',\n",
       " 'isin',\n",
       " 'isna',\n",
       " 'isnull',\n",
       " 'item',\n",
       " 'join',\n",
       " 'map',\n",
       " 'max',\n",
       " 'memory_usage',\n",
       " 'min',\n",
       " 'name',\n",
       " 'names',\n",
       " 'nbytes',\n",
       " 'ndim',\n",
       " 'nlevels',\n",
       " 'notna',\n",
       " 'notnull',\n",
       " 'nunique',\n",
       " 'putmask',\n",
       " 'ravel',\n",
       " 'reindex',\n",
       " 'rename',\n",
       " 'repeat',\n",
       " 'searchsorted',\n",
       " 'set_names',\n",
       " 'set_value',\n",
       " 'shape',\n",
       " 'shift',\n",
       " 'size',\n",
       " 'slice_indexer',\n",
       " 'slice_locs',\n",
       " 'sort',\n",
       " 'sort_values',\n",
       " 'sortlevel',\n",
       " 'summary',\n",
       " 'symmetric_difference',\n",
       " 'take',\n",
       " 'to_frame',\n",
       " 'to_native_types',\n",
       " 'to_series',\n",
       " 'tolist',\n",
       " 'transpose',\n",
       " 'union',\n",
       " 'unique',\n",
       " 'value_counts',\n",
       " 'values',\n",
       " 'view',\n",
       " 'where']"
      ]
     },
     "execution_count": 36,
     "metadata": {},
     "output_type": "execute_result"
    }
   ],
   "source": [
    "dir()"
   ]
  },
  {
   "cell_type": "code",
   "execution_count": 38,
   "metadata": {},
   "outputs": [
    {
     "data": {
      "text/plain": [
       "array([  3,   4,   5,   6,   8,   9,  11,  13,  14,  15,  20,  23,  24,\n",
       "        25,  28,  29,  31,  32,  34,  35,  38,  39,  42,  44,  45,  46,\n",
       "        48,  50,  52,  53,  54,  55,  60,  61,  67,  68,  69,  76,  77,\n",
       "        78,  79,  80,  83,  85,  87,  88,  91,  94,  95,  96,  97,  98,\n",
       "        99, 100, 101, 103, 104, 108, 109, 111, 113, 115, 117, 119, 120,\n",
       "       124, 126, 128, 130, 132, 135, 137, 139, 143, 144, 146, 148, 150,\n",
       "       151, 152, 154, 155, 156, 157, 158, 160, 161, 162, 163, 164, 165,\n",
       "       167, 170, 173, 174, 176, 178, 180, 182, 184, 188, 189, 193, 194,\n",
       "       196, 198, 199, 200, 201, 203, 204, 212, 215, 216, 217, 218, 219,\n",
       "       223, 224, 225, 226, 227, 229, 231, 233, 235, 236, 240, 241, 242,\n",
       "       243, 249, 250, 253, 254, 255, 260, 262, 265, 270, 272, 273, 274,\n",
       "       276, 277, 279, 280, 281, 282, 283, 285, 287, 288, 289, 290, 292,\n",
       "       293, 295, 301, 303, 305, 307, 310, 311, 313, 314, 317, 319, 323,\n",
       "       325, 326, 327, 328, 329, 330, 333, 335, 336, 338, 339, 343, 345,\n",
       "       349, 351, 354, 357, 359, 360, 361, 363, 364, 367, 369, 372, 373,\n",
       "       374, 375, 376, 382, 384, 388, 390, 392, 396, 398, 399, 403, 404,\n",
       "       405, 406, 407, 408, 409, 411, 413, 414, 416, 418, 420, 421, 422,\n",
       "       423, 424, 427, 428, 430, 432, 438, 439, 441, 442, 443, 445, 447,\n",
       "       449, 451, 454, 458, 460, 462, 463, 464, 465, 467, 476, 477, 478,\n",
       "       480, 482, 492, 495, 497, 498])"
      ]
     },
     "execution_count": 38,
     "metadata": {},
     "output_type": "execute_result"
    }
   ],
   "source": [
    "group_gender.groups['Female'].values"
   ]
  },
  {
   "cell_type": "code",
   "execution_count": 77,
   "metadata": {},
   "outputs": [
    {
     "data": {
      "text/html": [
       "<div>\n",
       "<style scoped>\n",
       "    .dataframe tbody tr th:only-of-type {\n",
       "        vertical-align: middle;\n",
       "    }\n",
       "\n",
       "    .dataframe tbody tr th {\n",
       "        vertical-align: top;\n",
       "    }\n",
       "\n",
       "    .dataframe thead th {\n",
       "        text-align: right;\n",
       "    }\n",
       "</style>\n",
       "<table border=\"1\" class=\"dataframe\">\n",
       "  <thead>\n",
       "    <tr style=\"text-align: right;\">\n",
       "      <th></th>\n",
       "      <th>Gender</th>\n",
       "      <th>Economic status</th>\n",
       "      <th>Height</th>\n",
       "      <th>Weight</th>\n",
       "      <th>Income</th>\n",
       "      <th>Age</th>\n",
       "    </tr>\n",
       "  </thead>\n",
       "  <tbody>\n",
       "    <tr>\n",
       "      <th>3</th>\n",
       "      <td>Female</td>\n",
       "      <td>Middle class</td>\n",
       "      <td>121.755305</td>\n",
       "      <td>62.195253</td>\n",
       "      <td>19795.405271</td>\n",
       "      <td>50</td>\n",
       "    </tr>\n",
       "    <tr>\n",
       "      <th>4</th>\n",
       "      <td>Female</td>\n",
       "      <td>Rich</td>\n",
       "      <td>208.297957</td>\n",
       "      <td>71.034980</td>\n",
       "      <td>12445.827529</td>\n",
       "      <td>27</td>\n",
       "    </tr>\n",
       "    <tr>\n",
       "      <th>5</th>\n",
       "      <td>Female</td>\n",
       "      <td>Middle class</td>\n",
       "      <td>179.528293</td>\n",
       "      <td>74.151716</td>\n",
       "      <td>18414.178095</td>\n",
       "      <td>22</td>\n",
       "    </tr>\n",
       "    <tr>\n",
       "      <th>6</th>\n",
       "      <td>Female</td>\n",
       "      <td>Poor</td>\n",
       "      <td>114.660592</td>\n",
       "      <td>62.517148</td>\n",
       "      <td>20090.273144</td>\n",
       "      <td>30</td>\n",
       "    </tr>\n",
       "  </tbody>\n",
       "</table>\n",
       "</div>"
      ],
      "text/plain": [
       "   Gender Economic status      Height     Weight        Income  Age\n",
       "3  Female    Middle class  121.755305  62.195253  19795.405271   50\n",
       "4  Female            Rich  208.297957  71.034980  12445.827529   27\n",
       "5  Female    Middle class  179.528293  74.151716  18414.178095   22\n",
       "6  Female            Poor  114.660592  62.517148  20090.273144   30"
      ]
     },
     "execution_count": 77,
     "metadata": {},
     "output_type": "execute_result"
    }
   ],
   "source": [
    "group_gender.get_group(\"Female\")[0:4]"
   ]
  },
  {
   "cell_type": "code",
   "execution_count": 78,
   "metadata": {},
   "outputs": [],
   "source": [
    "double_groups = data.groupby([\"Gender\", \"Economic status\"])"
   ]
  },
  {
   "cell_type": "code",
   "execution_count": 79,
   "metadata": {},
   "outputs": [
    {
     "data": {
      "text/plain": [
       "6"
      ]
     },
     "execution_count": 79,
     "metadata": {},
     "output_type": "execute_result"
    }
   ],
   "source": [
    "len(double_groups)"
   ]
  },
  {
   "cell_type": "code",
   "execution_count": 81,
   "metadata": {},
   "outputs": [
    {
     "data": {
      "text/html": [
       "<div>\n",
       "<style scoped>\n",
       "    .dataframe tbody tr th:only-of-type {\n",
       "        vertical-align: middle;\n",
       "    }\n",
       "\n",
       "    .dataframe tbody tr th {\n",
       "        vertical-align: top;\n",
       "    }\n",
       "\n",
       "    .dataframe thead th {\n",
       "        text-align: right;\n",
       "    }\n",
       "</style>\n",
       "<table border=\"1\" class=\"dataframe\">\n",
       "  <thead>\n",
       "    <tr style=\"text-align: right;\">\n",
       "      <th></th>\n",
       "      <th></th>\n",
       "      <th>Height</th>\n",
       "      <th>Weight</th>\n",
       "      <th>Income</th>\n",
       "      <th>Age</th>\n",
       "    </tr>\n",
       "    <tr>\n",
       "      <th>Gender</th>\n",
       "      <th>Economic status</th>\n",
       "      <th></th>\n",
       "      <th></th>\n",
       "      <th></th>\n",
       "      <th></th>\n",
       "    </tr>\n",
       "  </thead>\n",
       "  <tbody>\n",
       "    <tr>\n",
       "      <th rowspan=\"3\" valign=\"top\">Female</th>\n",
       "      <th>Middle class</th>\n",
       "      <td>165.046745</td>\n",
       "      <td>66.746393</td>\n",
       "      <td>18486.494098</td>\n",
       "      <td>30.433735</td>\n",
       "    </tr>\n",
       "    <tr>\n",
       "      <th>Poor</th>\n",
       "      <td>160.076644</td>\n",
       "      <td>62.059415</td>\n",
       "      <td>17222.115351</td>\n",
       "      <td>29.739130</td>\n",
       "    </tr>\n",
       "    <tr>\n",
       "      <th>Rich</th>\n",
       "      <td>160.408633</td>\n",
       "      <td>65.031172</td>\n",
       "      <td>17730.937855</td>\n",
       "      <td>28.615385</td>\n",
       "    </tr>\n",
       "    <tr>\n",
       "      <th rowspan=\"3\" valign=\"top\">Male</th>\n",
       "      <th>Middle class</th>\n",
       "      <td>163.670877</td>\n",
       "      <td>67.388228</td>\n",
       "      <td>18678.072877</td>\n",
       "      <td>30.185714</td>\n",
       "    </tr>\n",
       "    <tr>\n",
       "      <th>Poor</th>\n",
       "      <td>159.851525</td>\n",
       "      <td>65.629796</td>\n",
       "      <td>17033.323377</td>\n",
       "      <td>28.702128</td>\n",
       "    </tr>\n",
       "    <tr>\n",
       "      <th>Rich</th>\n",
       "      <td>169.426684</td>\n",
       "      <td>62.033367</td>\n",
       "      <td>18136.036795</td>\n",
       "      <td>27.662651</td>\n",
       "    </tr>\n",
       "  </tbody>\n",
       "</table>\n",
       "</div>"
      ],
      "text/plain": [
       "                            Height     Weight        Income        Age\n",
       "Gender Economic status                                                \n",
       "Female Middle class     165.046745  66.746393  18486.494098  30.433735\n",
       "       Poor             160.076644  62.059415  17222.115351  29.739130\n",
       "       Rich             160.408633  65.031172  17730.937855  28.615385\n",
       "Male   Middle class     163.670877  67.388228  18678.072877  30.185714\n",
       "       Poor             159.851525  65.629796  17033.323377  28.702128\n",
       "       Rich             169.426684  62.033367  18136.036795  27.662651"
      ]
     },
     "execution_count": 81,
     "metadata": {},
     "output_type": "execute_result"
    }
   ],
   "source": [
    "double_groups.mean()"
   ]
  },
  {
   "cell_type": "code",
   "execution_count": 83,
   "metadata": {},
   "outputs": [
    {
     "data": {
      "text/plain": [
       "Gender  Economic status\n",
       "Female  Middle class       83\n",
       "        Poor               92\n",
       "        Rich               78\n",
       "Male    Middle class       70\n",
       "        Poor               94\n",
       "        Rich               83\n",
       "dtype: int64"
      ]
     },
     "execution_count": 83,
     "metadata": {},
     "output_type": "execute_result"
    }
   ],
   "source": [
    "double_groups.size()"
   ]
  },
  {
   "cell_type": "code",
   "execution_count": 84,
   "metadata": {},
   "outputs": [
    {
     "data": {
      "text/html": [
       "<div>\n",
       "<style scoped>\n",
       "    .dataframe tbody tr th:only-of-type {\n",
       "        vertical-align: middle;\n",
       "    }\n",
       "\n",
       "    .dataframe tbody tr th {\n",
       "        vertical-align: top;\n",
       "    }\n",
       "\n",
       "    .dataframe thead tr th {\n",
       "        text-align: left;\n",
       "    }\n",
       "\n",
       "    .dataframe thead tr:last-of-type th {\n",
       "        text-align: right;\n",
       "    }\n",
       "</style>\n",
       "<table border=\"1\" class=\"dataframe\">\n",
       "  <thead>\n",
       "    <tr>\n",
       "      <th></th>\n",
       "      <th></th>\n",
       "      <th colspan=\"8\" halign=\"left\">Age</th>\n",
       "      <th colspan=\"2\" halign=\"left\">Height</th>\n",
       "      <th>...</th>\n",
       "      <th colspan=\"2\" halign=\"left\">Income</th>\n",
       "      <th colspan=\"8\" halign=\"left\">Weight</th>\n",
       "    </tr>\n",
       "    <tr>\n",
       "      <th></th>\n",
       "      <th></th>\n",
       "      <th>count</th>\n",
       "      <th>mean</th>\n",
       "      <th>std</th>\n",
       "      <th>min</th>\n",
       "      <th>25%</th>\n",
       "      <th>50%</th>\n",
       "      <th>75%</th>\n",
       "      <th>max</th>\n",
       "      <th>count</th>\n",
       "      <th>mean</th>\n",
       "      <th>...</th>\n",
       "      <th>75%</th>\n",
       "      <th>max</th>\n",
       "      <th>count</th>\n",
       "      <th>mean</th>\n",
       "      <th>std</th>\n",
       "      <th>min</th>\n",
       "      <th>25%</th>\n",
       "      <th>50%</th>\n",
       "      <th>75%</th>\n",
       "      <th>max</th>\n",
       "    </tr>\n",
       "    <tr>\n",
       "      <th>Gender</th>\n",
       "      <th>Economic status</th>\n",
       "      <th></th>\n",
       "      <th></th>\n",
       "      <th></th>\n",
       "      <th></th>\n",
       "      <th></th>\n",
       "      <th></th>\n",
       "      <th></th>\n",
       "      <th></th>\n",
       "      <th></th>\n",
       "      <th></th>\n",
       "      <th></th>\n",
       "      <th></th>\n",
       "      <th></th>\n",
       "      <th></th>\n",
       "      <th></th>\n",
       "      <th></th>\n",
       "      <th></th>\n",
       "      <th></th>\n",
       "      <th></th>\n",
       "      <th></th>\n",
       "      <th></th>\n",
       "    </tr>\n",
       "  </thead>\n",
       "  <tbody>\n",
       "    <tr>\n",
       "      <th rowspan=\"3\" valign=\"top\">Female</th>\n",
       "      <th>Middle class</th>\n",
       "      <td>83.0</td>\n",
       "      <td>30.433735</td>\n",
       "      <td>12.660860</td>\n",
       "      <td>2.0</td>\n",
       "      <td>22.50</td>\n",
       "      <td>30.0</td>\n",
       "      <td>41.5</td>\n",
       "      <td>53.0</td>\n",
       "      <td>83.0</td>\n",
       "      <td>165.046745</td>\n",
       "      <td>...</td>\n",
       "      <td>21542.139839</td>\n",
       "      <td>25250.718228</td>\n",
       "      <td>83.0</td>\n",
       "      <td>66.746393</td>\n",
       "      <td>22.475684</td>\n",
       "      <td>20.322960</td>\n",
       "      <td>46.582680</td>\n",
       "      <td>65.531399</td>\n",
       "      <td>82.123943</td>\n",
       "      <td>115.917330</td>\n",
       "    </tr>\n",
       "    <tr>\n",
       "      <th>Poor</th>\n",
       "      <td>92.0</td>\n",
       "      <td>29.739130</td>\n",
       "      <td>13.118957</td>\n",
       "      <td>-15.0</td>\n",
       "      <td>22.00</td>\n",
       "      <td>30.0</td>\n",
       "      <td>38.0</td>\n",
       "      <td>63.0</td>\n",
       "      <td>92.0</td>\n",
       "      <td>160.076644</td>\n",
       "      <td>...</td>\n",
       "      <td>19787.730197</td>\n",
       "      <td>24651.426137</td>\n",
       "      <td>92.0</td>\n",
       "      <td>62.059415</td>\n",
       "      <td>22.601314</td>\n",
       "      <td>3.340766</td>\n",
       "      <td>47.190110</td>\n",
       "      <td>60.604965</td>\n",
       "      <td>80.231411</td>\n",
       "      <td>125.726812</td>\n",
       "    </tr>\n",
       "    <tr>\n",
       "      <th>Rich</th>\n",
       "      <td>78.0</td>\n",
       "      <td>28.615385</td>\n",
       "      <td>12.367984</td>\n",
       "      <td>4.0</td>\n",
       "      <td>20.00</td>\n",
       "      <td>29.0</td>\n",
       "      <td>36.0</td>\n",
       "      <td>64.0</td>\n",
       "      <td>78.0</td>\n",
       "      <td>160.408633</td>\n",
       "      <td>...</td>\n",
       "      <td>20455.876732</td>\n",
       "      <td>25754.928181</td>\n",
       "      <td>78.0</td>\n",
       "      <td>65.031172</td>\n",
       "      <td>24.465223</td>\n",
       "      <td>-0.261450</td>\n",
       "      <td>47.256548</td>\n",
       "      <td>65.001675</td>\n",
       "      <td>81.706564</td>\n",
       "      <td>114.867128</td>\n",
       "    </tr>\n",
       "    <tr>\n",
       "      <th rowspan=\"3\" valign=\"top\">Male</th>\n",
       "      <th>Middle class</th>\n",
       "      <td>70.0</td>\n",
       "      <td>30.185714</td>\n",
       "      <td>12.533194</td>\n",
       "      <td>-2.0</td>\n",
       "      <td>23.25</td>\n",
       "      <td>31.0</td>\n",
       "      <td>38.0</td>\n",
       "      <td>57.0</td>\n",
       "      <td>70.0</td>\n",
       "      <td>163.670877</td>\n",
       "      <td>...</td>\n",
       "      <td>21109.040896</td>\n",
       "      <td>25994.196161</td>\n",
       "      <td>70.0</td>\n",
       "      <td>67.388228</td>\n",
       "      <td>26.085257</td>\n",
       "      <td>3.331034</td>\n",
       "      <td>46.636434</td>\n",
       "      <td>69.367387</td>\n",
       "      <td>86.720643</td>\n",
       "      <td>121.366371</td>\n",
       "    </tr>\n",
       "    <tr>\n",
       "      <th>Poor</th>\n",
       "      <td>94.0</td>\n",
       "      <td>28.702128</td>\n",
       "      <td>12.181274</td>\n",
       "      <td>0.0</td>\n",
       "      <td>19.00</td>\n",
       "      <td>31.0</td>\n",
       "      <td>37.0</td>\n",
       "      <td>57.0</td>\n",
       "      <td>94.0</td>\n",
       "      <td>159.851525</td>\n",
       "      <td>...</td>\n",
       "      <td>19222.575802</td>\n",
       "      <td>28928.351866</td>\n",
       "      <td>94.0</td>\n",
       "      <td>65.629796</td>\n",
       "      <td>26.878437</td>\n",
       "      <td>-21.503679</td>\n",
       "      <td>48.266943</td>\n",
       "      <td>67.911881</td>\n",
       "      <td>81.672928</td>\n",
       "      <td>117.694963</td>\n",
       "    </tr>\n",
       "    <tr>\n",
       "      <th>Rich</th>\n",
       "      <td>83.0</td>\n",
       "      <td>27.662651</td>\n",
       "      <td>13.046144</td>\n",
       "      <td>1.0</td>\n",
       "      <td>18.00</td>\n",
       "      <td>26.0</td>\n",
       "      <td>38.0</td>\n",
       "      <td>67.0</td>\n",
       "      <td>83.0</td>\n",
       "      <td>169.426684</td>\n",
       "      <td>...</td>\n",
       "      <td>20879.879853</td>\n",
       "      <td>27466.970958</td>\n",
       "      <td>83.0</td>\n",
       "      <td>62.033367</td>\n",
       "      <td>25.013064</td>\n",
       "      <td>-24.534184</td>\n",
       "      <td>43.661452</td>\n",
       "      <td>61.881678</td>\n",
       "      <td>78.440144</td>\n",
       "      <td>114.719213</td>\n",
       "    </tr>\n",
       "  </tbody>\n",
       "</table>\n",
       "<p>6 rows × 32 columns</p>\n",
       "</div>"
      ],
      "text/plain": [
       "                         Age                                                 \\\n",
       "                       count       mean        std   min    25%   50%   75%   \n",
       "Gender Economic status                                                        \n",
       "Female Middle class     83.0  30.433735  12.660860   2.0  22.50  30.0  41.5   \n",
       "       Poor             92.0  29.739130  13.118957 -15.0  22.00  30.0  38.0   \n",
       "       Rich             78.0  28.615385  12.367984   4.0  20.00  29.0  36.0   \n",
       "Male   Middle class     70.0  30.185714  12.533194  -2.0  23.25  31.0  38.0   \n",
       "       Poor             94.0  28.702128  12.181274   0.0  19.00  31.0  37.0   \n",
       "       Rich             83.0  27.662651  13.046144   1.0  18.00  26.0  38.0   \n",
       "\n",
       "                             Height                 ...            Income  \\\n",
       "                         max  count        mean     ...               75%   \n",
       "Gender Economic status                              ...                     \n",
       "Female Middle class     53.0   83.0  165.046745     ...      21542.139839   \n",
       "       Poor             63.0   92.0  160.076644     ...      19787.730197   \n",
       "       Rich             64.0   78.0  160.408633     ...      20455.876732   \n",
       "Male   Middle class     57.0   70.0  163.670877     ...      21109.040896   \n",
       "       Poor             57.0   94.0  159.851525     ...      19222.575802   \n",
       "       Rich             67.0   83.0  169.426684     ...      20879.879853   \n",
       "\n",
       "                                     Weight                                   \\\n",
       "                                 max  count       mean        std        min   \n",
       "Gender Economic status                                                         \n",
       "Female Middle class     25250.718228   83.0  66.746393  22.475684  20.322960   \n",
       "       Poor             24651.426137   92.0  62.059415  22.601314   3.340766   \n",
       "       Rich             25754.928181   78.0  65.031172  24.465223  -0.261450   \n",
       "Male   Middle class     25994.196161   70.0  67.388228  26.085257   3.331034   \n",
       "       Poor             28928.351866   94.0  65.629796  26.878437 -21.503679   \n",
       "       Rich             27466.970958   83.0  62.033367  25.013064 -24.534184   \n",
       "\n",
       "                                                                     \n",
       "                              25%        50%        75%         max  \n",
       "Gender Economic status                                               \n",
       "Female Middle class     46.582680  65.531399  82.123943  115.917330  \n",
       "       Poor             47.190110  60.604965  80.231411  125.726812  \n",
       "       Rich             47.256548  65.001675  81.706564  114.867128  \n",
       "Male   Middle class     46.636434  69.367387  86.720643  121.366371  \n",
       "       Poor             48.266943  67.911881  81.672928  117.694963  \n",
       "       Rich             43.661452  61.881678  78.440144  114.719213  \n",
       "\n",
       "[6 rows x 32 columns]"
      ]
     },
     "execution_count": 84,
     "metadata": {},
     "output_type": "execute_result"
    }
   ],
   "source": [
    "double_groups.describe()"
   ]
  },
  {
   "cell_type": "code",
   "execution_count": 86,
   "metadata": {},
   "outputs": [
    {
     "data": {
      "text/html": [
       "<div>\n",
       "<style scoped>\n",
       "    .dataframe tbody tr th:only-of-type {\n",
       "        vertical-align: middle;\n",
       "    }\n",
       "\n",
       "    .dataframe tbody tr th {\n",
       "        vertical-align: top;\n",
       "    }\n",
       "\n",
       "    .dataframe thead th {\n",
       "        text-align: right;\n",
       "    }\n",
       "</style>\n",
       "<table border=\"1\" class=\"dataframe\">\n",
       "  <thead>\n",
       "    <tr style=\"text-align: right;\">\n",
       "      <th></th>\n",
       "      <th></th>\n",
       "      <th>count</th>\n",
       "      <th>mean</th>\n",
       "      <th>std</th>\n",
       "      <th>min</th>\n",
       "      <th>25%</th>\n",
       "      <th>50%</th>\n",
       "      <th>75%</th>\n",
       "      <th>max</th>\n",
       "    </tr>\n",
       "    <tr>\n",
       "      <th>Gender</th>\n",
       "      <th>Economic status</th>\n",
       "      <th></th>\n",
       "      <th></th>\n",
       "      <th></th>\n",
       "      <th></th>\n",
       "      <th></th>\n",
       "      <th></th>\n",
       "      <th></th>\n",
       "      <th></th>\n",
       "    </tr>\n",
       "  </thead>\n",
       "  <tbody>\n",
       "    <tr>\n",
       "      <th rowspan=\"3\" valign=\"top\">Female</th>\n",
       "      <th>Middle class</th>\n",
       "      <td>83.0</td>\n",
       "      <td>18486.494098</td>\n",
       "      <td>3706.886025</td>\n",
       "      <td>8298.968385</td>\n",
       "      <td>15526.223935</td>\n",
       "      <td>18589.595186</td>\n",
       "      <td>21542.139839</td>\n",
       "      <td>25250.718228</td>\n",
       "    </tr>\n",
       "    <tr>\n",
       "      <th>Poor</th>\n",
       "      <td>92.0</td>\n",
       "      <td>17222.115351</td>\n",
       "      <td>3487.417843</td>\n",
       "      <td>5183.679537</td>\n",
       "      <td>15276.186612</td>\n",
       "      <td>16839.906099</td>\n",
       "      <td>19787.730197</td>\n",
       "      <td>24651.426137</td>\n",
       "    </tr>\n",
       "    <tr>\n",
       "      <th>Rich</th>\n",
       "      <td>78.0</td>\n",
       "      <td>17730.937855</td>\n",
       "      <td>3555.931939</td>\n",
       "      <td>6010.548947</td>\n",
       "      <td>15572.616711</td>\n",
       "      <td>17086.885330</td>\n",
       "      <td>20455.876732</td>\n",
       "      <td>25754.928181</td>\n",
       "    </tr>\n",
       "    <tr>\n",
       "      <th rowspan=\"3\" valign=\"top\">Male</th>\n",
       "      <th>Middle class</th>\n",
       "      <td>70.0</td>\n",
       "      <td>18678.072877</td>\n",
       "      <td>3422.534157</td>\n",
       "      <td>12239.480784</td>\n",
       "      <td>16123.486157</td>\n",
       "      <td>18429.620555</td>\n",
       "      <td>21109.040896</td>\n",
       "      <td>25994.196161</td>\n",
       "    </tr>\n",
       "    <tr>\n",
       "      <th>Poor</th>\n",
       "      <td>94.0</td>\n",
       "      <td>17033.323377</td>\n",
       "      <td>3702.293365</td>\n",
       "      <td>8642.874416</td>\n",
       "      <td>14792.158111</td>\n",
       "      <td>16967.713978</td>\n",
       "      <td>19222.575802</td>\n",
       "      <td>28928.351866</td>\n",
       "    </tr>\n",
       "    <tr>\n",
       "      <th>Rich</th>\n",
       "      <td>83.0</td>\n",
       "      <td>18136.036795</td>\n",
       "      <td>3767.167423</td>\n",
       "      <td>9946.696452</td>\n",
       "      <td>15567.719879</td>\n",
       "      <td>17953.726719</td>\n",
       "      <td>20879.879853</td>\n",
       "      <td>27466.970958</td>\n",
       "    </tr>\n",
       "  </tbody>\n",
       "</table>\n",
       "</div>"
      ],
      "text/plain": [
       "                        count          mean          std           min  \\\n",
       "Gender Economic status                                                   \n",
       "Female Middle class      83.0  18486.494098  3706.886025   8298.968385   \n",
       "       Poor              92.0  17222.115351  3487.417843   5183.679537   \n",
       "       Rich              78.0  17730.937855  3555.931939   6010.548947   \n",
       "Male   Middle class      70.0  18678.072877  3422.534157  12239.480784   \n",
       "       Poor              94.0  17033.323377  3702.293365   8642.874416   \n",
       "       Rich              83.0  18136.036795  3767.167423   9946.696452   \n",
       "\n",
       "                                 25%           50%           75%           max  \n",
       "Gender Economic status                                                          \n",
       "Female Middle class     15526.223935  18589.595186  21542.139839  25250.718228  \n",
       "       Poor             15276.186612  16839.906099  19787.730197  24651.426137  \n",
       "       Rich             15572.616711  17086.885330  20455.876732  25754.928181  \n",
       "Male   Middle class     16123.486157  18429.620555  21109.040896  25994.196161  \n",
       "       Poor             14792.158111  16967.713978  19222.575802  28928.351866  \n",
       "       Rich             15567.719879  17953.726719  20879.879853  27466.970958  "
      ]
     },
     "execution_count": 86,
     "metadata": {},
     "output_type": "execute_result"
    }
   ],
   "source": [
    "double_groups[\"Income\"].describe()"
   ]
  },
  {
   "cell_type": "code",
   "execution_count": 87,
   "metadata": {},
   "outputs": [
    {
     "data": {
      "text/plain": [
       "Gender  Economic status\n",
       "Female  Middle class       83\n",
       "        Poor               92\n",
       "        Rich               78\n",
       "Male    Middle class       70\n",
       "        Poor               94\n",
       "        Rich               83\n",
       "Name: Income, dtype: int64"
      ]
     },
     "execution_count": 87,
     "metadata": {},
     "output_type": "execute_result"
    }
   ],
   "source": [
    "double_groups[\"Income\"].size()"
   ]
  },
  {
   "cell_type": "code",
   "execution_count": 88,
   "metadata": {},
   "outputs": [
    {
     "data": {
      "text/html": [
       "<div>\n",
       "<style scoped>\n",
       "    .dataframe tbody tr th:only-of-type {\n",
       "        vertical-align: middle;\n",
       "    }\n",
       "\n",
       "    .dataframe tbody tr th {\n",
       "        vertical-align: top;\n",
       "    }\n",
       "\n",
       "    .dataframe thead th {\n",
       "        text-align: right;\n",
       "    }\n",
       "</style>\n",
       "<table border=\"1\" class=\"dataframe\">\n",
       "  <thead>\n",
       "    <tr style=\"text-align: right;\">\n",
       "      <th></th>\n",
       "      <th></th>\n",
       "      <th>Income</th>\n",
       "      <th>Age</th>\n",
       "      <th>Height</th>\n",
       "    </tr>\n",
       "    <tr>\n",
       "      <th>Gender</th>\n",
       "      <th>Economic status</th>\n",
       "      <th></th>\n",
       "      <th></th>\n",
       "      <th></th>\n",
       "    </tr>\n",
       "  </thead>\n",
       "  <tbody>\n",
       "    <tr>\n",
       "      <th rowspan=\"3\" valign=\"top\">Female</th>\n",
       "      <th>Middle class</th>\n",
       "      <td>1.534379e+06</td>\n",
       "      <td>30.433735</td>\n",
       "      <td>31.840192</td>\n",
       "    </tr>\n",
       "    <tr>\n",
       "      <th>Poor</th>\n",
       "      <td>1.584435e+06</td>\n",
       "      <td>29.739130</td>\n",
       "      <td>32.681658</td>\n",
       "    </tr>\n",
       "    <tr>\n",
       "      <th>Rich</th>\n",
       "      <td>1.383013e+06</td>\n",
       "      <td>28.615385</td>\n",
       "      <td>27.635930</td>\n",
       "    </tr>\n",
       "    <tr>\n",
       "      <th rowspan=\"3\" valign=\"top\">Male</th>\n",
       "      <th>Middle class</th>\n",
       "      <td>1.307465e+06</td>\n",
       "      <td>30.185714</td>\n",
       "      <td>30.302401</td>\n",
       "    </tr>\n",
       "    <tr>\n",
       "      <th>Poor</th>\n",
       "      <td>1.601132e+06</td>\n",
       "      <td>28.702128</td>\n",
       "      <td>33.020838</td>\n",
       "    </tr>\n",
       "    <tr>\n",
       "      <th>Rich</th>\n",
       "      <td>1.505291e+06</td>\n",
       "      <td>27.662651</td>\n",
       "      <td>27.881449</td>\n",
       "    </tr>\n",
       "  </tbody>\n",
       "</table>\n",
       "</div>"
      ],
      "text/plain": [
       "                              Income        Age     Height\n",
       "Gender Economic status                                    \n",
       "Female Middle class     1.534379e+06  30.433735  31.840192\n",
       "       Poor             1.584435e+06  29.739130  32.681658\n",
       "       Rich             1.383013e+06  28.615385  27.635930\n",
       "Male   Middle class     1.307465e+06  30.185714  30.302401\n",
       "       Poor             1.601132e+06  28.702128  33.020838\n",
       "       Rich             1.505291e+06  27.662651  27.881449"
      ]
     },
     "execution_count": 88,
     "metadata": {},
     "output_type": "execute_result"
    }
   ],
   "source": [
    "double_groups.aggregate(\n",
    "    {\n",
    "        \"Income\": np.sum,\n",
    "        \"Age\" : np.mean,\n",
    "        \"Height\": np.std\n",
    "    }\n",
    ")"
   ]
  },
  {
   "cell_type": "code",
   "execution_count": 92,
   "metadata": {},
   "outputs": [],
   "source": [
    "test = double_groups.aggregate(\n",
    "    {\n",
    "       \n",
    "        \"Age\" : lambda x : np.mean(x) > 29 ,\n",
    "        \"Height\": np.std\n",
    "    }\n",
    ")"
   ]
  },
  {
   "cell_type": "code",
   "execution_count": 99,
   "metadata": {},
   "outputs": [
    {
     "data": {
      "text/html": [
       "<div>\n",
       "<style scoped>\n",
       "    .dataframe tbody tr th:only-of-type {\n",
       "        vertical-align: middle;\n",
       "    }\n",
       "\n",
       "    .dataframe tbody tr th {\n",
       "        vertical-align: top;\n",
       "    }\n",
       "\n",
       "    .dataframe thead th {\n",
       "        text-align: right;\n",
       "    }\n",
       "</style>\n",
       "<table border=\"1\" class=\"dataframe\">\n",
       "  <thead>\n",
       "    <tr style=\"text-align: right;\">\n",
       "      <th></th>\n",
       "      <th></th>\n",
       "      <th>Age</th>\n",
       "      <th>Height</th>\n",
       "    </tr>\n",
       "    <tr>\n",
       "      <th>Gender</th>\n",
       "      <th>Economic status</th>\n",
       "      <th></th>\n",
       "      <th></th>\n",
       "    </tr>\n",
       "  </thead>\n",
       "  <tbody>\n",
       "    <tr>\n",
       "      <th rowspan=\"2\" valign=\"top\">Female</th>\n",
       "      <th>Middle class</th>\n",
       "      <td>True</td>\n",
       "      <td>31.840192</td>\n",
       "    </tr>\n",
       "    <tr>\n",
       "      <th>Poor</th>\n",
       "      <td>True</td>\n",
       "      <td>32.681658</td>\n",
       "    </tr>\n",
       "    <tr>\n",
       "      <th>Male</th>\n",
       "      <th>Middle class</th>\n",
       "      <td>True</td>\n",
       "      <td>30.302401</td>\n",
       "    </tr>\n",
       "  </tbody>\n",
       "</table>\n",
       "</div>"
      ],
      "text/plain": [
       "                         Age     Height\n",
       "Gender Economic status                 \n",
       "Female Middle class     True  31.840192\n",
       "       Poor             True  32.681658\n",
       "Male   Middle class     True  30.302401"
      ]
     },
     "execution_count": 99,
     "metadata": {},
     "output_type": "execute_result"
    }
   ],
   "source": [
    "test[(test[\"Age\"] == True)]"
   ]
  },
  {
   "cell_type": "code",
   "execution_count": 100,
   "metadata": {},
   "outputs": [
    {
     "data": {
      "text/html": [
       "<div>\n",
       "<style scoped>\n",
       "    .dataframe tbody tr th:only-of-type {\n",
       "        vertical-align: middle;\n",
       "    }\n",
       "\n",
       "    .dataframe tbody tr th {\n",
       "        vertical-align: top;\n",
       "    }\n",
       "\n",
       "    .dataframe thead tr th {\n",
       "        text-align: left;\n",
       "    }\n",
       "\n",
       "    .dataframe thead tr:last-of-type th {\n",
       "        text-align: right;\n",
       "    }\n",
       "</style>\n",
       "<table border=\"1\" class=\"dataframe\">\n",
       "  <thead>\n",
       "    <tr>\n",
       "      <th></th>\n",
       "      <th></th>\n",
       "      <th colspan=\"2\" halign=\"left\">Height</th>\n",
       "      <th colspan=\"2\" halign=\"left\">Weight</th>\n",
       "      <th colspan=\"2\" halign=\"left\">Income</th>\n",
       "      <th colspan=\"2\" halign=\"left\">Age</th>\n",
       "    </tr>\n",
       "    <tr>\n",
       "      <th></th>\n",
       "      <th></th>\n",
       "      <th>sum</th>\n",
       "      <th>mean</th>\n",
       "      <th>sum</th>\n",
       "      <th>mean</th>\n",
       "      <th>sum</th>\n",
       "      <th>mean</th>\n",
       "      <th>sum</th>\n",
       "      <th>mean</th>\n",
       "    </tr>\n",
       "    <tr>\n",
       "      <th>Gender</th>\n",
       "      <th>Economic status</th>\n",
       "      <th></th>\n",
       "      <th></th>\n",
       "      <th></th>\n",
       "      <th></th>\n",
       "      <th></th>\n",
       "      <th></th>\n",
       "      <th></th>\n",
       "      <th></th>\n",
       "    </tr>\n",
       "  </thead>\n",
       "  <tbody>\n",
       "    <tr>\n",
       "      <th rowspan=\"3\" valign=\"top\">Female</th>\n",
       "      <th>Middle class</th>\n",
       "      <td>13698.879811</td>\n",
       "      <td>165.046745</td>\n",
       "      <td>5539.950627</td>\n",
       "      <td>66.746393</td>\n",
       "      <td>1.534379e+06</td>\n",
       "      <td>18486.494098</td>\n",
       "      <td>2526</td>\n",
       "      <td>30.433735</td>\n",
       "    </tr>\n",
       "    <tr>\n",
       "      <th>Poor</th>\n",
       "      <td>14727.051221</td>\n",
       "      <td>160.076644</td>\n",
       "      <td>5709.466208</td>\n",
       "      <td>62.059415</td>\n",
       "      <td>1.584435e+06</td>\n",
       "      <td>17222.115351</td>\n",
       "      <td>2736</td>\n",
       "      <td>29.739130</td>\n",
       "    </tr>\n",
       "    <tr>\n",
       "      <th>Rich</th>\n",
       "      <td>12511.873363</td>\n",
       "      <td>160.408633</td>\n",
       "      <td>5072.431384</td>\n",
       "      <td>65.031172</td>\n",
       "      <td>1.383013e+06</td>\n",
       "      <td>17730.937855</td>\n",
       "      <td>2232</td>\n",
       "      <td>28.615385</td>\n",
       "    </tr>\n",
       "    <tr>\n",
       "      <th rowspan=\"3\" valign=\"top\">Male</th>\n",
       "      <th>Middle class</th>\n",
       "      <td>11456.961377</td>\n",
       "      <td>163.670877</td>\n",
       "      <td>4717.175987</td>\n",
       "      <td>67.388228</td>\n",
       "      <td>1.307465e+06</td>\n",
       "      <td>18678.072877</td>\n",
       "      <td>2113</td>\n",
       "      <td>30.185714</td>\n",
       "    </tr>\n",
       "    <tr>\n",
       "      <th>Poor</th>\n",
       "      <td>15026.043307</td>\n",
       "      <td>159.851525</td>\n",
       "      <td>6169.200807</td>\n",
       "      <td>65.629796</td>\n",
       "      <td>1.601132e+06</td>\n",
       "      <td>17033.323377</td>\n",
       "      <td>2698</td>\n",
       "      <td>28.702128</td>\n",
       "    </tr>\n",
       "    <tr>\n",
       "      <th>Rich</th>\n",
       "      <td>14062.414770</td>\n",
       "      <td>169.426684</td>\n",
       "      <td>5148.769426</td>\n",
       "      <td>62.033367</td>\n",
       "      <td>1.505291e+06</td>\n",
       "      <td>18136.036795</td>\n",
       "      <td>2296</td>\n",
       "      <td>27.662651</td>\n",
       "    </tr>\n",
       "  </tbody>\n",
       "</table>\n",
       "</div>"
      ],
      "text/plain": [
       "                              Height                   Weight             \\\n",
       "                                 sum        mean          sum       mean   \n",
       "Gender Economic status                                                     \n",
       "Female Middle class     13698.879811  165.046745  5539.950627  66.746393   \n",
       "       Poor             14727.051221  160.076644  5709.466208  62.059415   \n",
       "       Rich             12511.873363  160.408633  5072.431384  65.031172   \n",
       "Male   Middle class     11456.961377  163.670877  4717.175987  67.388228   \n",
       "       Poor             15026.043307  159.851525  6169.200807  65.629796   \n",
       "       Rich             14062.414770  169.426684  5148.769426  62.033367   \n",
       "\n",
       "                              Income                 Age             \n",
       "                                 sum          mean   sum       mean  \n",
       "Gender Economic status                                               \n",
       "Female Middle class     1.534379e+06  18486.494098  2526  30.433735  \n",
       "       Poor             1.584435e+06  17222.115351  2736  29.739130  \n",
       "       Rich             1.383013e+06  17730.937855  2232  28.615385  \n",
       "Male   Middle class     1.307465e+06  18678.072877  2113  30.185714  \n",
       "       Poor             1.601132e+06  17033.323377  2698  28.702128  \n",
       "       Rich             1.505291e+06  18136.036795  2296  27.662651  "
      ]
     },
     "execution_count": 100,
     "metadata": {},
     "output_type": "execute_result"
    }
   ],
   "source": [
    "double_groups.aggregate([np.sum,np.mean])"
   ]
  },
  {
   "cell_type": "markdown",
   "metadata": {},
   "source": [
    "# Filtrado"
   ]
  },
  {
   "cell_type": "code",
   "execution_count": 109,
   "metadata": {},
   "outputs": [
    {
     "data": {
      "text/plain": [
       "Series([], Name: Age, dtype: int64)"
      ]
     },
     "execution_count": 109,
     "metadata": {},
     "output_type": "execute_result"
    }
   ],
   "source": [
    "double_groups[\"Age\"].filter(lambda x:x.sum() >= 5000)"
   ]
  },
  {
   "cell_type": "markdown",
   "metadata": {},
   "source": [
    "# Transformacion "
   ]
  },
  {
   "cell_type": "code",
   "execution_count": 110,
   "metadata": {},
   "outputs": [],
   "source": [
    "zscore = lambda x : (x-x.mean())/x.std()"
   ]
  },
  {
   "cell_type": "code",
   "execution_count": 111,
   "metadata": {},
   "outputs": [],
   "source": [
    "z_group = double_groups.transform(zscore)"
   ]
  },
  {
   "cell_type": "code",
   "execution_count": 113,
   "metadata": {},
   "outputs": [
    {
     "data": {
      "text/html": [
       "<div>\n",
       "<style scoped>\n",
       "    .dataframe tbody tr th:only-of-type {\n",
       "        vertical-align: middle;\n",
       "    }\n",
       "\n",
       "    .dataframe tbody tr th {\n",
       "        vertical-align: top;\n",
       "    }\n",
       "\n",
       "    .dataframe thead th {\n",
       "        text-align: right;\n",
       "    }\n",
       "</style>\n",
       "<table border=\"1\" class=\"dataframe\">\n",
       "  <thead>\n",
       "    <tr style=\"text-align: right;\">\n",
       "      <th></th>\n",
       "      <th>Height</th>\n",
       "      <th>Weight</th>\n",
       "      <th>Income</th>\n",
       "      <th>Age</th>\n",
       "    </tr>\n",
       "  </thead>\n",
       "  <tbody>\n",
       "    <tr>\n",
       "      <th>0</th>\n",
       "      <td>0.441743</td>\n",
       "      <td>-0.724465</td>\n",
       "      <td>-0.478679</td>\n",
       "      <td>-0.632292</td>\n",
       "    </tr>\n",
       "    <tr>\n",
       "      <th>1</th>\n",
       "      <td>1.325128</td>\n",
       "      <td>-0.170551</td>\n",
       "      <td>-0.286508</td>\n",
       "      <td>-1.660464</td>\n",
       "    </tr>\n",
       "    <tr>\n",
       "      <th>2</th>\n",
       "      <td>-1.405590</td>\n",
       "      <td>-1.502070</td>\n",
       "      <td>-0.038187</td>\n",
       "      <td>0.102509</td>\n",
       "    </tr>\n",
       "    <tr>\n",
       "      <th>3</th>\n",
       "      <td>-1.359648</td>\n",
       "      <td>-0.202492</td>\n",
       "      <td>0.353103</td>\n",
       "      <td>1.545414</td>\n",
       "    </tr>\n",
       "  </tbody>\n",
       "</table>\n",
       "</div>"
      ],
      "text/plain": [
       "     Height    Weight    Income       Age\n",
       "0  0.441743 -0.724465 -0.478679 -0.632292\n",
       "1  1.325128 -0.170551 -0.286508 -1.660464\n",
       "2 -1.405590 -1.502070 -0.038187  0.102509\n",
       "3 -1.359648 -0.202492  0.353103  1.545414"
      ]
     },
     "execution_count": 113,
     "metadata": {},
     "output_type": "execute_result"
    }
   ],
   "source": [
    "z_group[:4]\n"
   ]
  },
  {
   "cell_type": "code",
   "execution_count": 114,
   "metadata": {},
   "outputs": [
    {
     "data": {
      "text/html": [
       "<div>\n",
       "<style scoped>\n",
       "    .dataframe tbody tr th:only-of-type {\n",
       "        vertical-align: middle;\n",
       "    }\n",
       "\n",
       "    .dataframe tbody tr th {\n",
       "        vertical-align: top;\n",
       "    }\n",
       "\n",
       "    .dataframe thead th {\n",
       "        text-align: right;\n",
       "    }\n",
       "</style>\n",
       "<table border=\"1\" class=\"dataframe\">\n",
       "  <thead>\n",
       "    <tr style=\"text-align: right;\">\n",
       "      <th></th>\n",
       "      <th></th>\n",
       "      <th>Age</th>\n",
       "      <th>Height</th>\n",
       "      <th>Income</th>\n",
       "      <th>Weight</th>\n",
       "    </tr>\n",
       "    <tr>\n",
       "      <th>Gender</th>\n",
       "      <th>Economic status</th>\n",
       "      <th></th>\n",
       "      <th></th>\n",
       "      <th></th>\n",
       "      <th></th>\n",
       "    </tr>\n",
       "  </thead>\n",
       "  <tbody>\n",
       "    <tr>\n",
       "      <th rowspan=\"3\" valign=\"top\">Female</th>\n",
       "      <th>Middle class</th>\n",
       "      <td>22</td>\n",
       "      <td>179.528293</td>\n",
       "      <td>18414.178095</td>\n",
       "      <td>74.151716</td>\n",
       "    </tr>\n",
       "    <tr>\n",
       "      <th>Poor</th>\n",
       "      <td>20</td>\n",
       "      <td>129.833599</td>\n",
       "      <td>24651.426137</td>\n",
       "      <td>57.342248</td>\n",
       "    </tr>\n",
       "    <tr>\n",
       "      <th>Rich</th>\n",
       "      <td>23</td>\n",
       "      <td>116.156525</td>\n",
       "      <td>21935.846232</td>\n",
       "      <td>67.097783</td>\n",
       "    </tr>\n",
       "    <tr>\n",
       "      <th rowspan=\"3\" valign=\"top\">Male</th>\n",
       "      <th>Middle class</th>\n",
       "      <td>40</td>\n",
       "      <td>126.021718</td>\n",
       "      <td>22350.198423</td>\n",
       "      <td>41.209372</td>\n",
       "    </tr>\n",
       "    <tr>\n",
       "      <th>Poor</th>\n",
       "      <td>37</td>\n",
       "      <td>159.528606</td>\n",
       "      <td>15563.365652</td>\n",
       "      <td>96.548818</td>\n",
       "    </tr>\n",
       "    <tr>\n",
       "      <th>Rich</th>\n",
       "      <td>29</td>\n",
       "      <td>130.236789</td>\n",
       "      <td>17992.181796</td>\n",
       "      <td>24.461983</td>\n",
       "    </tr>\n",
       "  </tbody>\n",
       "</table>\n",
       "</div>"
      ],
      "text/plain": [
       "                        Age      Height        Income     Weight\n",
       "Gender Economic status                                          \n",
       "Female Middle class      22  179.528293  18414.178095  74.151716\n",
       "       Poor              20  129.833599  24651.426137  57.342248\n",
       "       Rich              23  116.156525  21935.846232  67.097783\n",
       "Male   Middle class      40  126.021718  22350.198423  41.209372\n",
       "       Poor              37  159.528606  15563.365652  96.548818\n",
       "       Rich              29  130.236789  17992.181796  24.461983"
      ]
     },
     "execution_count": 114,
     "metadata": {},
     "output_type": "execute_result"
    }
   ],
   "source": [
    "double_groups.nth(2)"
   ]
  },
  {
   "cell_type": "code",
   "execution_count": 122,
   "metadata": {},
   "outputs": [
    {
     "data": {
      "text/plain": [
       "<pandas.core.groupby.groupby.DataFrameGroupBy object at 0x7f5e0cdb92b0>"
      ]
     },
     "execution_count": 122,
     "metadata": {},
     "output_type": "execute_result"
    }
   ],
   "source": [
    "double_groups"
   ]
  },
  {
   "cell_type": "code",
   "execution_count": 124,
   "metadata": {},
   "outputs": [
    {
     "data": {
      "text/html": [
       "<div>\n",
       "<style scoped>\n",
       "    .dataframe tbody tr th:only-of-type {\n",
       "        vertical-align: middle;\n",
       "    }\n",
       "\n",
       "    .dataframe tbody tr th {\n",
       "        vertical-align: top;\n",
       "    }\n",
       "\n",
       "    .dataframe thead th {\n",
       "        text-align: right;\n",
       "    }\n",
       "</style>\n",
       "<table border=\"1\" class=\"dataframe\">\n",
       "  <thead>\n",
       "    <tr style=\"text-align: right;\">\n",
       "      <th></th>\n",
       "      <th>Gender</th>\n",
       "      <th>Economic status</th>\n",
       "      <th>Height</th>\n",
       "      <th>Weight</th>\n",
       "      <th>Income</th>\n",
       "      <th>Age</th>\n",
       "    </tr>\n",
       "  </thead>\n",
       "  <tbody>\n",
       "    <tr>\n",
       "      <th>3</th>\n",
       "      <td>Female</td>\n",
       "      <td>Middle class</td>\n",
       "      <td>121.755305</td>\n",
       "      <td>62.195253</td>\n",
       "      <td>19795.405271</td>\n",
       "      <td>50</td>\n",
       "    </tr>\n",
       "    <tr>\n",
       "      <th>4</th>\n",
       "      <td>Female</td>\n",
       "      <td>Rich</td>\n",
       "      <td>208.297957</td>\n",
       "      <td>71.034980</td>\n",
       "      <td>12445.827529</td>\n",
       "      <td>27</td>\n",
       "    </tr>\n",
       "    <tr>\n",
       "      <th>5</th>\n",
       "      <td>Female</td>\n",
       "      <td>Middle class</td>\n",
       "      <td>179.528293</td>\n",
       "      <td>74.151716</td>\n",
       "      <td>18414.178095</td>\n",
       "      <td>22</td>\n",
       "    </tr>\n",
       "    <tr>\n",
       "      <th>6</th>\n",
       "      <td>Female</td>\n",
       "      <td>Poor</td>\n",
       "      <td>114.660592</td>\n",
       "      <td>62.517148</td>\n",
       "      <td>20090.273144</td>\n",
       "      <td>30</td>\n",
       "    </tr>\n",
       "  </tbody>\n",
       "</table>\n",
       "</div>"
      ],
      "text/plain": [
       "   Gender Economic status      Height     Weight        Income  Age\n",
       "3  Female    Middle class  121.755305  62.195253  19795.405271   50\n",
       "4  Female            Rich  208.297957  71.034980  12445.827529   27\n",
       "5  Female    Middle class  179.528293  74.151716  18414.178095   22\n",
       "6  Female            Poor  114.660592  62.517148  20090.273144   30"
      ]
     },
     "execution_count": 124,
     "metadata": {},
     "output_type": "execute_result"
    }
   ],
   "source": [
    "group_gender.get_group(\"Female\")[0:4]"
   ]
  },
  {
   "cell_type": "code",
   "execution_count": 125,
   "metadata": {},
   "outputs": [
    {
     "data": {
      "text/html": [
       "<div>\n",
       "<style scoped>\n",
       "    .dataframe tbody tr th:only-of-type {\n",
       "        vertical-align: middle;\n",
       "    }\n",
       "\n",
       "    .dataframe tbody tr th {\n",
       "        vertical-align: top;\n",
       "    }\n",
       "\n",
       "    .dataframe thead th {\n",
       "        text-align: right;\n",
       "    }\n",
       "</style>\n",
       "<table border=\"1\" class=\"dataframe\">\n",
       "  <thead>\n",
       "    <tr style=\"text-align: right;\">\n",
       "      <th></th>\n",
       "      <th>Gender</th>\n",
       "      <th>Economic status</th>\n",
       "      <th>Height</th>\n",
       "      <th>Weight</th>\n",
       "      <th>Income</th>\n",
       "      <th>Age</th>\n",
       "    </tr>\n",
       "  </thead>\n",
       "  <tbody>\n",
       "    <tr>\n",
       "      <th>0</th>\n",
       "      <td>Male</td>\n",
       "      <td>Poor</td>\n",
       "      <td>174.438254</td>\n",
       "      <td>46.157300</td>\n",
       "      <td>15261.114610</td>\n",
       "      <td>21</td>\n",
       "    </tr>\n",
       "    <tr>\n",
       "      <th>1</th>\n",
       "      <td>Male</td>\n",
       "      <td>Rich</td>\n",
       "      <td>206.373174</td>\n",
       "      <td>57.767355</td>\n",
       "      <td>17056.712279</td>\n",
       "      <td>6</td>\n",
       "    </tr>\n",
       "    <tr>\n",
       "      <th>2</th>\n",
       "      <td>Male</td>\n",
       "      <td>Rich</td>\n",
       "      <td>130.236789</td>\n",
       "      <td>24.461983</td>\n",
       "      <td>17992.181796</td>\n",
       "      <td>29</td>\n",
       "    </tr>\n",
       "    <tr>\n",
       "      <th>3</th>\n",
       "      <td>Female</td>\n",
       "      <td>Middle class</td>\n",
       "      <td>121.755305</td>\n",
       "      <td>62.195253</td>\n",
       "      <td>19795.405271</td>\n",
       "      <td>50</td>\n",
       "    </tr>\n",
       "  </tbody>\n",
       "</table>\n",
       "</div>"
      ],
      "text/plain": [
       "   Gender Economic status      Height     Weight        Income  Age\n",
       "0    Male            Poor  174.438254  46.157300  15261.114610   21\n",
       "1    Male            Rich  206.373174  57.767355  17056.712279    6\n",
       "2    Male            Rich  130.236789  24.461983  17992.181796   29\n",
       "3  Female    Middle class  121.755305  62.195253  19795.405271   50"
      ]
     },
     "execution_count": 125,
     "metadata": {},
     "output_type": "execute_result"
    }
   ],
   "source": [
    "data[0:4]"
   ]
  },
  {
   "cell_type": "code",
   "execution_count": 13,
   "metadata": {},
   "outputs": [],
   "source": [
    "import pandas as pd\n",
    "import numpy as np\n",
    "import matplotlib.pyplot as plt\n",
    "mainPath = \"/home/user/projectAnacoda/python-course-ml/python-ml-course/datasets/\""
   ]
  },
  {
   "cell_type": "code",
   "execution_count": 51,
   "metadata": {},
   "outputs": [],
   "source": [
    "data = pd.read_csv(mainPath + '/customer-churn-model/Customer Churn Model.txt')"
   ]
  },
  {
   "cell_type": "code",
   "execution_count": 7,
   "metadata": {},
   "outputs": [
    {
     "data": {
      "text/plain": [
       "3333"
      ]
     },
     "execution_count": 7,
     "metadata": {},
     "output_type": "execute_result"
    }
   ],
   "source": [
    "len(data)"
   ]
  },
  {
   "cell_type": "markdown",
   "metadata": {},
   "source": [
    "## Dividir en forma normal"
   ]
  },
  {
   "cell_type": "code",
   "execution_count": 14,
   "metadata": {},
   "outputs": [],
   "source": [
    "a = np.random.randn(len(data))"
   ]
  },
  {
   "cell_type": "code",
   "execution_count": 24,
   "metadata": {},
   "outputs": [],
   "source": [
    " %matplotlib inline"
   ]
  },
  {
   "cell_type": "code",
   "execution_count": 25,
   "metadata": {},
   "outputs": [
    {
     "data": {
      "text/plain": [
       "(array([  8.,  24., 151., 413., 741., 852., 703., 323.,  99.,  19.]),\n",
       " array([-3.61047135, -2.93473422, -2.25899708, -1.58325994, -0.9075228 ,\n",
       "        -0.23178567,  0.44395147,  1.11968861,  1.79542574,  2.47116288,\n",
       "         3.14690002]),\n",
       " <a list of 10 Patch objects>)"
      ]
     },
     "execution_count": 25,
     "metadata": {},
     "output_type": "execute_result"
    },
    {
     "data": {
      "image/png": "[encoded data removed]",
      "text/plain": [
       "<Figure size 432x288 with 1 Axes>"
      ]
     },
     "metadata": {
      "needs_background": "light"
     },
     "output_type": "display_data"
    }
   ],
   "source": [
    "plt.hist(a)"
   ]
  },
  {
   "cell_type": "code",
   "execution_count": 31,
   "metadata": {},
   "outputs": [
    {
     "data": {
      "text/plain": [
       "3333"
      ]
     },
     "execution_count": 31,
     "metadata": {},
     "output_type": "execute_result"
    }
   ],
   "source": [
    "len(a)"
   ]
  },
  {
   "cell_type": "code",
   "execution_count": 39,
   "metadata": {},
   "outputs": [],
   "source": [
    "check = (a < 0.8)"
   ]
  },
  {
   "cell_type": "code",
   "execution_count": 41,
   "metadata": {},
   "outputs": [
    {
     "data": {
      "text/plain": [
       "array([ True, False,  True, ...,  True, False,  True])"
      ]
     },
     "execution_count": 41,
     "metadata": {},
     "output_type": "execute_result"
    }
   ],
   "source": [
    "check"
   ]
  },
  {
   "cell_type": "code",
   "execution_count": 52,
   "metadata": {},
   "outputs": [],
   "source": [
    "training = data[check]"
   ]
  },
  {
   "cell_type": "code",
   "execution_count": 55,
   "metadata": {},
   "outputs": [],
   "source": [
    "testing = data[~check]"
   ]
  },
  {
   "cell_type": "code",
   "execution_count": 56,
   "metadata": {},
   "outputs": [
    {
     "data": {
      "text/plain": [
       "717"
      ]
     },
     "execution_count": 56,
     "metadata": {},
     "output_type": "execute_result"
    }
   ],
   "source": [
    "len(testing)"
   ]
  },
  {
   "cell_type": "markdown",
   "metadata": {},
   "source": [
    "# Libreria sklearn"
   ]
  },
  {
   "cell_type": "code",
   "execution_count": 58,
   "metadata": {},
   "outputs": [],
   "source": [
    "from sklearn.model_selection import train_test_split"
   ]
  },
  {
   "cell_type": "code",
   "execution_count": 59,
   "metadata": {},
   "outputs": [],
   "source": [
    "train, test = train_test_split(data, test_size=0.2)"
   ]
  },
  {
   "cell_type": "code",
   "execution_count": 60,
   "metadata": {},
   "outputs": [
    {
     "data": {
      "text/plain": [
       "2666"
      ]
     },
     "execution_count": 60,
     "metadata": {},
     "output_type": "execute_result"
    }
   ],
   "source": [
    "len(train)"
   ]
  },
  {
   "cell_type": "markdown",
   "metadata": {},
   "source": [
    "## Usuando funcion shuffle"
   ]
  },
  {
   "cell_type": "code",
   "execution_count": 63,
   "metadata": {},
   "outputs": [],
   "source": [
    "import sklearn"
   ]
  },
  {
   "cell_type": "code",
   "execution_count": 66,
   "metadata": {},
   "outputs": [],
   "source": [
    "dataShuffle = sklearn.utils.shuffle(data)"
   ]
  },
  {
   "cell_type": "code",
   "execution_count": 85,
   "metadata": {},
   "outputs": [],
   "source": [
    "cut_id = int(0.75*len(dataShuffle))\n",
    "train_data = dataShuffle[:cut_id]\n",
    "test_data = dataShuffle[cut_id+1:]"
   ]
  },
  {
   "cell_type": "code",
   "execution_count": 86,
   "metadata": {},
   "outputs": [
    {
     "data": {
      "text/plain": [
       "2499"
      ]
     },
     "execution_count": 86,
     "metadata": {},
     "output_type": "execute_result"
    }
   ],
   "source": [
    "len(train_data)"
   ]
  },
  {
   "cell_type": "code",
   "execution_count": 87,
   "metadata": {},
   "outputs": [
    {
     "data": {
      "text/plain": [
       "833"
      ]
     },
     "execution_count": 87,
     "metadata": {},
     "output_type": "execute_result"
    }
   ],
   "source": [
    "len(test_data)"
   ]
  },
  {
   "cell_type": "code",
   "execution_count": null,
   "metadata": {},
   "outputs": [],
   "source": []
  }
 ],
 "metadata": {
  "kernelspec": {
   "display_name": "Python 3",
   "language": "python",
   "name": "python3"
  },
  "language_info": {
   "codemirror_mode": {
    "name": "ipython",
    "version": 3
   },
   "file_extension": ".py",
   "mimetype": "text/x-python",
   "name": "python",
   "nbconvert_exporter": "python",
   "pygments_lexer": "ipython3",
   "version": "3.7.1"
  }
 },
 "nbformat": 4,
 "nbformat_minor": 2
}
